{
 "cells": [
  {
   "cell_type": "code",
   "execution_count": 21,
   "metadata": {
    "ExecuteTime": {
     "end_time": "2019-06-24T21:56:34.975391Z",
     "start_time": "2019-06-24T21:56:34.969018Z"
    }
   },
   "outputs": [],
   "source": [
    "import pandas as pd\n",
    "import numpy as np\n",
    "\n",
    "import re\n",
    "import string\n",
    "import random\n",
    "import operator\n",
    "\n",
    "from collections import Counter\n",
    "\n",
    "import matplotlib.pyplot as plt\n",
    "import seaborn as sns\n",
    "%matplotlib inline\n",
    "\n",
    "import torch\n",
    "from torch.utils.data import Dataset, DataLoader"
   ]
  },
  {
   "cell_type": "code",
   "execution_count": 172,
   "metadata": {
    "ExecuteTime": {
     "end_time": "2019-06-25T06:33:01.368442Z",
     "start_time": "2019-06-25T06:32:58.234821Z"
    }
   },
   "outputs": [
    {
     "data": {
      "text/html": [
       "<div>\n",
       "<style scoped>\n",
       "    .dataframe tbody tr th:only-of-type {\n",
       "        vertical-align: middle;\n",
       "    }\n",
       "\n",
       "    .dataframe tbody tr th {\n",
       "        vertical-align: top;\n",
       "    }\n",
       "\n",
       "    .dataframe thead th {\n",
       "        text-align: right;\n",
       "    }\n",
       "</style>\n",
       "<table border=\"1\" class=\"dataframe\">\n",
       "  <thead>\n",
       "    <tr style=\"text-align: right;\">\n",
       "      <th></th>\n",
       "      <th>index</th>\n",
       "      <th>song</th>\n",
       "      <th>year</th>\n",
       "      <th>artist</th>\n",
       "      <th>genre</th>\n",
       "      <th>lyrics</th>\n",
       "    </tr>\n",
       "  </thead>\n",
       "  <tbody>\n",
       "    <tr>\n",
       "      <th>0</th>\n",
       "      <td>0</td>\n",
       "      <td>ego-remix</td>\n",
       "      <td>2009</td>\n",
       "      <td>beyonce-knowles</td>\n",
       "      <td>Pop</td>\n",
       "      <td>Oh baby, how you doing?\\nYou know I'm gonna cu...</td>\n",
       "    </tr>\n",
       "    <tr>\n",
       "      <th>1</th>\n",
       "      <td>1</td>\n",
       "      <td>then-tell-me</td>\n",
       "      <td>2009</td>\n",
       "      <td>beyonce-knowles</td>\n",
       "      <td>Pop</td>\n",
       "      <td>playin' everything so easy,\\nit's like you see...</td>\n",
       "    </tr>\n",
       "    <tr>\n",
       "      <th>2</th>\n",
       "      <td>2</td>\n",
       "      <td>honesty</td>\n",
       "      <td>2009</td>\n",
       "      <td>beyonce-knowles</td>\n",
       "      <td>Pop</td>\n",
       "      <td>If you search\\nFor tenderness\\nIt isn't hard t...</td>\n",
       "    </tr>\n",
       "    <tr>\n",
       "      <th>3</th>\n",
       "      <td>3</td>\n",
       "      <td>you-are-my-rock</td>\n",
       "      <td>2009</td>\n",
       "      <td>beyonce-knowles</td>\n",
       "      <td>Pop</td>\n",
       "      <td>Oh oh oh I, oh oh oh I\\n[Verse 1:]\\nIf I wrote...</td>\n",
       "    </tr>\n",
       "    <tr>\n",
       "      <th>4</th>\n",
       "      <td>4</td>\n",
       "      <td>black-culture</td>\n",
       "      <td>2009</td>\n",
       "      <td>beyonce-knowles</td>\n",
       "      <td>Pop</td>\n",
       "      <td>Party the people, the people the party it's po...</td>\n",
       "    </tr>\n",
       "  </tbody>\n",
       "</table>\n",
       "</div>"
      ],
      "text/plain": [
       "   index             song  year           artist genre  \\\n",
       "0      0        ego-remix  2009  beyonce-knowles   Pop   \n",
       "1      1     then-tell-me  2009  beyonce-knowles   Pop   \n",
       "2      2          honesty  2009  beyonce-knowles   Pop   \n",
       "3      3  you-are-my-rock  2009  beyonce-knowles   Pop   \n",
       "4      4    black-culture  2009  beyonce-knowles   Pop   \n",
       "\n",
       "                                              lyrics  \n",
       "0  Oh baby, how you doing?\\nYou know I'm gonna cu...  \n",
       "1  playin' everything so easy,\\nit's like you see...  \n",
       "2  If you search\\nFor tenderness\\nIt isn't hard t...  \n",
       "3  Oh oh oh I, oh oh oh I\\n[Verse 1:]\\nIf I wrote...  \n",
       "4  Party the people, the people the party it's po...  "
      ]
     },
     "execution_count": 172,
     "metadata": {},
     "output_type": "execute_result"
    }
   ],
   "source": [
    "music = pd.read_csv('lyrics.csv')\n",
    "music.head()"
   ]
  },
  {
   "cell_type": "code",
   "execution_count": 173,
   "metadata": {
    "ExecuteTime": {
     "end_time": "2019-06-25T06:33:01.388676Z",
     "start_time": "2019-06-25T06:33:01.371367Z"
    }
   },
   "outputs": [
    {
     "data": {
      "text/plain": [
       "array(['Pop', 'Hip-Hop', 'Not Available', 'Other', 'Rock', 'Metal',\n",
       "       'Country', 'Jazz', 'Electronic', 'Folk', 'R&B', 'Indie'],\n",
       "      dtype=object)"
      ]
     },
     "execution_count": 173,
     "metadata": {},
     "output_type": "execute_result"
    }
   ],
   "source": [
    "# Check the genre\n",
    "music['genre'].unique()"
   ]
  },
  {
   "cell_type": "code",
   "execution_count": 174,
   "metadata": {
    "ExecuteTime": {
     "end_time": "2019-06-25T06:33:01.433323Z",
     "start_time": "2019-06-25T06:33:01.390460Z"
    }
   },
   "outputs": [
    {
     "data": {
      "text/plain": [
       "33965"
      ]
     },
     "execution_count": 174,
     "metadata": {},
     "output_type": "execute_result"
    }
   ],
   "source": [
    "# Get how many Hip-Hop songs in the dataset\n",
    "sum(music['genre'] == 'Hip-Hop')"
   ]
  },
  {
   "cell_type": "code",
   "execution_count": 175,
   "metadata": {
    "ExecuteTime": {
     "end_time": "2019-06-25T06:33:01.488555Z",
     "start_time": "2019-06-25T06:33:01.436034Z"
    }
   },
   "outputs": [
    {
     "name": "stdout",
     "output_type": "stream",
     "text": [
      "Below is the distribution in terms of release years:\n",
      "[(2006, 6062), (2007, 3808), (2012, 1778), (2008, 1646), (2010, 1537), (2016, 1508), (2011, 1474), (2014, 1324), (2009, 1294), (2013, 1229), (2015, 1161), (2005, 564), (2004, 435), (2002, 200), (1999, 127), (2003, 111), (1996, 95), (2001, 89), (2000, 82), (1995, 81), (1992, 59), (1994, 54), (1989, 48), (1998, 34), (1993, 13), (1997, 12), (1991, 11), (1990, 7), (112, 3), (1982, 2), (702, 1), (67, 1)]\n",
      "(24843, 6)\n"
     ]
    }
   ],
   "source": [
    "# Initial clean of hip-hop dataframe\n",
    "hip_hop_df = music[music.genre == \"Hip-Hop\"]\n",
    "\n",
    "# 1. Take out all the rows with nan in lyrics\n",
    "hip_hop_df = hip_hop_df[~hip_hop_df.lyrics.isna()]\n",
    "\n",
    "# 2. Take out irregular years\n",
    "num_yrs = len(sorted(hip_hop_df.year.unique()))\n",
    "print(\"Below is the distribution in terms of release years:\")\n",
    "print(Counter(hip_hop_df.year.values).most_common(num_yrs))\n",
    "hip_hop_df = hip_hop_df[hip_hop_df.year >= 1989]\n",
    "\n",
    "# Print result after initial clean\n",
    "print(hip_hop_df.shape)"
   ]
  },
  {
   "cell_type": "code",
   "execution_count": 176,
   "metadata": {
    "ExecuteTime": {
     "end_time": "2019-06-25T06:33:01.514749Z",
     "start_time": "2019-06-25T06:33:01.492319Z"
    }
   },
   "outputs": [
    {
     "data": {
      "text/html": [
       "<div>\n",
       "<style scoped>\n",
       "    .dataframe tbody tr th:only-of-type {\n",
       "        vertical-align: middle;\n",
       "    }\n",
       "\n",
       "    .dataframe tbody tr th {\n",
       "        vertical-align: top;\n",
       "    }\n",
       "\n",
       "    .dataframe thead th {\n",
       "        text-align: right;\n",
       "    }\n",
       "</style>\n",
       "<table border=\"1\" class=\"dataframe\">\n",
       "  <thead>\n",
       "    <tr style=\"text-align: right;\">\n",
       "      <th></th>\n",
       "      <th>song</th>\n",
       "      <th>year</th>\n",
       "      <th>artist</th>\n",
       "      <th>genre</th>\n",
       "      <th>lyrics</th>\n",
       "    </tr>\n",
       "  </thead>\n",
       "  <tbody>\n",
       "    <tr>\n",
       "      <th>0</th>\n",
       "      <td>i-got-that</td>\n",
       "      <td>2007</td>\n",
       "      <td>eazy-e</td>\n",
       "      <td>Hip-Hop</td>\n",
       "      <td>(horns)...\\n(chorus)\\nTimbo- When you hit me o...</td>\n",
       "    </tr>\n",
       "    <tr>\n",
       "      <th>1</th>\n",
       "      <td>8-ball-remix</td>\n",
       "      <td>2007</td>\n",
       "      <td>eazy-e</td>\n",
       "      <td>Hip-Hop</td>\n",
       "      <td>Verse 1:\\nI don't drink brass monkey, like to ...</td>\n",
       "    </tr>\n",
       "    <tr>\n",
       "      <th>2</th>\n",
       "      <td>extra-special-thankz</td>\n",
       "      <td>2007</td>\n",
       "      <td>eazy-e</td>\n",
       "      <td>Hip-Hop</td>\n",
       "      <td>19 muthaphukkin 93,\\nand I'm back in this bitc...</td>\n",
       "    </tr>\n",
       "    <tr>\n",
       "      <th>3</th>\n",
       "      <td>boyz-in-da-hood</td>\n",
       "      <td>2007</td>\n",
       "      <td>eazy-e</td>\n",
       "      <td>Hip-Hop</td>\n",
       "      <td>Hey yo man, remember that shit Eazy did a whil...</td>\n",
       "    </tr>\n",
       "    <tr>\n",
       "      <th>4</th>\n",
       "      <td>automoblie</td>\n",
       "      <td>2007</td>\n",
       "      <td>eazy-e</td>\n",
       "      <td>Hip-Hop</td>\n",
       "      <td>Yo, Dre, man, I take this bitch out to the mov...</td>\n",
       "    </tr>\n",
       "  </tbody>\n",
       "</table>\n",
       "</div>"
      ],
      "text/plain": [
       "                   song  year  artist    genre  \\\n",
       "0            i-got-that  2007  eazy-e  Hip-Hop   \n",
       "1          8-ball-remix  2007  eazy-e  Hip-Hop   \n",
       "2  extra-special-thankz  2007  eazy-e  Hip-Hop   \n",
       "3       boyz-in-da-hood  2007  eazy-e  Hip-Hop   \n",
       "4            automoblie  2007  eazy-e  Hip-Hop   \n",
       "\n",
       "                                              lyrics  \n",
       "0  (horns)...\\n(chorus)\\nTimbo- When you hit me o...  \n",
       "1  Verse 1:\\nI don't drink brass monkey, like to ...  \n",
       "2  19 muthaphukkin 93,\\nand I'm back in this bitc...  \n",
       "3  Hey yo man, remember that shit Eazy did a whil...  \n",
       "4  Yo, Dre, man, I take this bitch out to the mov...  "
      ]
     },
     "execution_count": 176,
     "metadata": {},
     "output_type": "execute_result"
    }
   ],
   "source": [
    "# Readjust index number of the dataframe\n",
    "hip_hop_df = hip_hop_df.drop(\"index\", axis=1)\\\n",
    "                       .reset_index()\\\n",
    "                       .drop(\"index\", axis=1)\n",
    "hip_hop_df.head(5)"
   ]
  },
  {
   "cell_type": "code",
   "execution_count": 177,
   "metadata": {
    "ExecuteTime": {
     "end_time": "2019-06-25T06:33:01.584881Z",
     "start_time": "2019-06-25T06:33:01.517424Z"
    }
   },
   "outputs": [],
   "source": [
    "# Get number of \"\\n\" for each lyrics\n",
    "hip_hop_df[\"num_of_line_change\"] = hip_hop_df.lyrics.apply(lambda x: x.count(\"\\n\"))"
   ]
  },
  {
   "cell_type": "code",
   "execution_count": 178,
   "metadata": {
    "ExecuteTime": {
     "end_time": "2019-06-25T06:33:01.607515Z",
     "start_time": "2019-06-25T06:33:01.586813Z"
    }
   },
   "outputs": [
    {
     "name": "stdout",
     "output_type": "stream",
     "text": [
      "Overview of number of line changes:\n",
      "count    24843.000000\n",
      "mean        63.062513\n",
      "std         31.558344\n",
      "min          0.000000\n",
      "25%         44.000000\n",
      "50%         62.000000\n",
      "75%         81.000000\n",
      "max       1090.000000\n",
      "Name: num_of_line_change, dtype: float64\n",
      "\n",
      "Threshold: 31.504168699269503\n",
      "\n",
      "new shape after filter: (21534, 6)\n"
     ]
    }
   ],
   "source": [
    "# Get the distribution of number of line changes\n",
    "print(\"Overview of number of line changes:\")\n",
    "print(hip_hop_df.num_of_line_change.describe())\n",
    "\n",
    "# Calculate the threshold of the filter\n",
    "# The motivation is to take out \n",
    "# 1. Intro\n",
    "# 2. Outro\n",
    "# 3. Interlude\n",
    "# 4. Skit\n",
    "thres_ = hip_hop_df.num_of_line_change.describe()[\"mean\"] - hip_hop_df.num_of_line_change.describe()[\"std\"]\n",
    "print(f\"\\nThreshold: {thres_}\")\n",
    "\n",
    "# Filter out songs with number of line changes less than thres_\n",
    "hip_hop_df = hip_hop_df[hip_hop_df.num_of_line_change >= int(thres_)]\n",
    "print(f\"\\nnew shape after filter: {hip_hop_df.shape}\")"
   ]
  },
  {
   "cell_type": "code",
   "execution_count": 179,
   "metadata": {
    "ExecuteTime": {
     "end_time": "2019-06-25T06:33:01.987803Z",
     "start_time": "2019-06-25T06:33:01.609336Z"
    }
   },
   "outputs": [],
   "source": [
    "# For consistency, we feel there is a need to set a maximum line length\n",
    "# The motivation behind it is that some lyrics just have a 500 number of characters for a line\n",
    "\n",
    "hip_hop_df[\"max_line_length\"] = hip_hop_df[\"lyrics\"].apply(lambda x: max([len(l) for l in x.split(\"\\n\")]))"
   ]
  },
  {
   "cell_type": "code",
   "execution_count": 180,
   "metadata": {
    "ExecuteTime": {
     "end_time": "2019-06-25T06:33:02.031946Z",
     "start_time": "2019-06-25T06:33:01.990661Z"
    }
   },
   "outputs": [
    {
     "name": "stdout",
     "output_type": "stream",
     "text": [
      "Overview of number of max line length:\n",
      "count    21534.000000\n",
      "mean        70.498885\n",
      "std         44.375378\n",
      "min         17.000000\n",
      "25%         59.000000\n",
      "50%         66.000000\n",
      "75%         73.000000\n",
      "max       1705.000000\n",
      "Name: max_line_length, dtype: float64\n",
      "\n",
      "lower bound: 26.12350747623585\n",
      "upper bound: 114.87426349060726\n",
      "\n",
      "new shape after filter: (21021, 7)\n"
     ]
    }
   ],
   "source": [
    "# Get the distribution of max line length\n",
    "print(\"Overview of number of max line length:\")\n",
    "print(hip_hop_df.max_line_length.describe())\n",
    "\n",
    "# Calculate the threshold of the filter\n",
    "# Get the data within 2 std's\n",
    "lower_bound = hip_hop_df.max_line_length.describe()[\"mean\"] - hip_hop_df.max_line_length.describe()[\"std\"]\n",
    "upper_bound = hip_hop_df.max_line_length.describe()[\"mean\"] + hip_hop_df.max_line_length.describe()[\"std\"]\n",
    "print(f\"\\nlower bound: {lower_bound}\")\n",
    "print(f\"upper bound: {upper_bound}\")\n",
    "\n",
    "# Filter out songs with number of max line length outside of 1 standard deviation\n",
    "hip_hop_df = hip_hop_df[(hip_hop_df.max_line_length >= int(lower_bound)) &\n",
    "                        (hip_hop_df.max_line_length <= int(upper_bound))]\n",
    "print(f\"\\nnew shape after filter: {hip_hop_df.shape}\")"
   ]
  },
  {
   "cell_type": "code",
   "execution_count": 258,
   "metadata": {
    "ExecuteTime": {
     "end_time": "2019-06-25T07:24:58.882846Z",
     "start_time": "2019-06-25T07:24:57.219332Z"
    }
   },
   "outputs": [
    {
     "name": "stdout",
     "output_type": "stream",
     "text": [
      "0\n",
      "2000\n",
      "4000\n",
      "6000\n",
      "8000\n",
      "10000\n",
      "12000\n",
      "14000\n",
      "16000\n",
      "18000\n",
      "20000\n",
      "# keys for bracket: 14120\n",
      "# keys for parenthesis: 47827\n"
     ]
    }
   ],
   "source": [
    "# In the lyrics, there are many identifying lines that are \n",
    "# actually not a part of the actual lyric in the song\n",
    "# For example,\n",
    "# - Chorus:\n",
    "# - Verse 1:\n",
    "# (Hook)\n",
    "# We aim to take out these identifying lines\n",
    "\n",
    "# Usually, these identifying lines are anotated with \"[]\" or \"()\"\n",
    "\n",
    "# Build lists for bracket and parenthesis, respectively\n",
    "bracket_list = []\n",
    "parenthesis_list = []\n",
    "i = 0 # processing flag\n",
    "\n",
    "for lyrics in hip_hop_df.lyrics.values:\n",
    "    # show process\n",
    "    if i % 2000 == 0:\n",
    "        print(i)\n",
    "    lines = lyrics.split(\"\\n\")\n",
    "    for line in lines:\n",
    "        if line.startswith(\"[\") or line.endswith(\"]\") or line.startswith('{') or line.endswith('}'):\n",
    "            bracket_list.append(line)\n",
    "        if line.startswith(\"(\") or line.endswith(\")\"):\n",
    "            parenthesis_list.append(line)\n",
    "    i += 1\n",
    "    \n",
    "bracket_dict = Counter(bracket_list)\n",
    "parenthesis_dict = Counter(parenthesis_list)\n",
    "print(f\"# keys for bracket: {len(bracket_dict.keys())}\")\n",
    "print(f\"# keys for parenthesis: {len(parenthesis_dict.keys())}\")"
   ]
  },
  {
   "cell_type": "code",
   "execution_count": 259,
   "metadata": {
    "ExecuteTime": {
     "end_time": "2019-06-25T07:25:09.392578Z",
     "start_time": "2019-06-25T07:25:09.384579Z"
    }
   },
   "outputs": [
    {
     "data": {
      "text/plain": [
       "[('[Chorus]', 6267),\n",
       " ('[Hook]', 1504),\n",
       " ('[Verse 1]', 801),\n",
       " ('[Verse 2]', 794),\n",
       " ('[Chorus: x2]', 696),\n",
       " ('[Chorus:]', 660),\n",
       " ('[Intro]', 349),\n",
       " ('[Verse 3]', 318),\n",
       " ('[Bridge]', 247),\n",
       " ('[chorus]', 214),\n",
       " ('[Hook:]', 204),\n",
       " ('[Verse 2:]', 190),\n",
       " ('[Chorus x2]', 186),\n",
       " ('[Verse 1:]', 182),\n",
       " ('[Baby]', 170),\n",
       " ('[Outro]', 162),\n",
       " ('[Eminem]', 158),\n",
       " ('[Ghostface Killah]', 156),\n",
       " ('[Busta Rhymes]', 153),\n",
       " ('[Bizzy Bone]', 142)]"
      ]
     },
     "execution_count": 259,
     "metadata": {},
     "output_type": "execute_result"
    }
   ],
   "source": [
    "bracket_dict.most_common(20)"
   ]
  },
  {
   "cell_type": "code",
   "execution_count": 273,
   "metadata": {
    "ExecuteTime": {
     "end_time": "2019-06-25T07:30:59.278923Z",
     "start_time": "2019-06-25T07:30:59.248371Z"
    }
   },
   "outputs": [
    {
     "data": {
      "text/plain": [
       "5253"
      ]
     },
     "execution_count": 273,
     "metadata": {},
     "output_type": "execute_result"
    }
   ],
   "source": [
    "# Get the filter for bracket\n",
    "bracket_list_elim = []\n",
    "for key in bracket_dict.keys():\n",
    "    if (bracket_dict[key] >= 5 and len(key) <= 20) \\\n",
    "    or \"verse\" in key.lower() \\\n",
    "    or \"chorus\" in key.lower() \\\n",
    "    or key.endswith(\"}\") \\\n",
    "    or key.endswith(\")\"):\n",
    "        bracket_list_elim.append(key)\n",
    "        \n",
    "len(bracket_list_elim)"
   ]
  },
  {
   "cell_type": "code",
   "execution_count": 261,
   "metadata": {
    "ExecuteTime": {
     "end_time": "2019-06-25T07:25:13.486001Z",
     "start_time": "2019-06-25T07:25:13.467676Z"
    }
   },
   "outputs": [
    {
     "data": {
      "text/plain": [
       "[('(Chorus)', 594),\n",
       " ('(chorus)', 207),\n",
       " ('(Hook)', 197),\n",
       " ('(Yeah)', 137),\n",
       " ('(CHORUS)', 112),\n",
       " ('(Bun)', 99),\n",
       " ('(Verse 2)', 94),\n",
       " ('(Verse)', 93),\n",
       " ('(Verse 1)', 85),\n",
       " ('(x2)', 84),\n",
       " ('(Who?)', 79),\n",
       " ('I did it for my dawgz (I did it for my dawgz)', 69),\n",
       " ('(Give it here)', 68),\n",
       " (\"(He'll make a way)\", 66),\n",
       " (\"(C'mon)\", 65),\n",
       " ('(Shake it, shake it)', 65),\n",
       " (\"Don't walk away boy (Don't walk away)\", 64),\n",
       " ('(repeat)', 63),\n",
       " ('(Come on)', 62),\n",
       " ('(Bridge)', 62)]"
      ]
     },
     "execution_count": 261,
     "metadata": {},
     "output_type": "execute_result"
    }
   ],
   "source": [
    "parenthesis_dict.most_common(20)"
   ]
  },
  {
   "cell_type": "code",
   "execution_count": 277,
   "metadata": {
    "ExecuteTime": {
     "end_time": "2019-06-25T07:32:34.593869Z",
     "start_time": "2019-06-25T07:32:34.537510Z"
    }
   },
   "outputs": [
    {
     "data": {
      "text/plain": [
       "1319"
      ]
     },
     "execution_count": 277,
     "metadata": {},
     "output_type": "execute_result"
    }
   ],
   "source": [
    "# Get the filter for parenthesis\n",
    "parenthesis_list_elim = []\n",
    "for key in parenthesis_dict.keys():\n",
    "    if (parenthesis_dict[key] >= 5 and len(key) <= 15) \\\n",
    "    or \"verse\" in key.lower() \\\n",
    "    or \"chorus\" in key.lower():\n",
    "        parenthesis_list_elim.append(key)\n",
    "        \n",
    "len(parenthesis_list_elim)"
   ]
  },
  {
   "cell_type": "code",
   "execution_count": 279,
   "metadata": {
    "ExecuteTime": {
     "end_time": "2019-06-25T07:34:49.483779Z",
     "start_time": "2019-06-25T07:32:41.296754Z"
    }
   },
   "outputs": [],
   "source": [
    "# Replace the parenthesis and bracket in the lyrics\n",
    "def lyricFilter(lyric):\n",
    "    lines = lyric.split(\"\\n\")\n",
    "    temp_list = []\n",
    "    for line in lines:\n",
    "        if line not in bracket_list_elim and line not in parenthesis_list_elim and \":\" not in line:\n",
    "            temp_list.append(line)\n",
    "    return '\\n'.join(temp_list)\n",
    "            \n",
    "hip_hop_df_filtered = hip_hop_df.copy()\n",
    "hip_hop_df_filtered[\"lyrics\"] = hip_hop_df_filtered[\"lyrics\"].apply(lambda x: lyricFilter(x))"
   ]
  },
  {
   "cell_type": "code",
   "execution_count": 280,
   "metadata": {
    "ExecuteTime": {
     "end_time": "2019-06-25T07:34:49.500657Z",
     "start_time": "2019-06-25T07:34:49.485996Z"
    }
   },
   "outputs": [
    {
     "data": {
      "text/html": [
       "<div>\n",
       "<style scoped>\n",
       "    .dataframe tbody tr th:only-of-type {\n",
       "        vertical-align: middle;\n",
       "    }\n",
       "\n",
       "    .dataframe tbody tr th {\n",
       "        vertical-align: top;\n",
       "    }\n",
       "\n",
       "    .dataframe thead th {\n",
       "        text-align: right;\n",
       "    }\n",
       "</style>\n",
       "<table border=\"1\" class=\"dataframe\">\n",
       "  <thead>\n",
       "    <tr style=\"text-align: right;\">\n",
       "      <th></th>\n",
       "      <th>song</th>\n",
       "      <th>year</th>\n",
       "      <th>artist</th>\n",
       "      <th>genre</th>\n",
       "      <th>lyrics</th>\n",
       "      <th>num_of_line_change</th>\n",
       "      <th>max_line_length</th>\n",
       "    </tr>\n",
       "  </thead>\n",
       "  <tbody>\n",
       "    <tr>\n",
       "      <th>1</th>\n",
       "      <td>8-ball-remix</td>\n",
       "      <td>2007</td>\n",
       "      <td>eazy-e</td>\n",
       "      <td>Hip-Hop</td>\n",
       "      <td>I don't drink brass monkey, like to be funky\\n...</td>\n",
       "      <td>70</td>\n",
       "      <td>80</td>\n",
       "    </tr>\n",
       "    <tr>\n",
       "      <th>3</th>\n",
       "      <td>boyz-in-da-hood</td>\n",
       "      <td>2007</td>\n",
       "      <td>eazy-e</td>\n",
       "      <td>Hip-Hop</td>\n",
       "      <td>Hey yo man, remember that shit Eazy did a whil...</td>\n",
       "      <td>97</td>\n",
       "      <td>54</td>\n",
       "    </tr>\n",
       "    <tr>\n",
       "      <th>5</th>\n",
       "      <td>i-d-rather-fuck-you</td>\n",
       "      <td>2007</td>\n",
       "      <td>eazy-e</td>\n",
       "      <td>Hip-Hop</td>\n",
       "      <td>Aah, this is one of them songs\\nYou can kick b...</td>\n",
       "      <td>44</td>\n",
       "      <td>51</td>\n",
       "    </tr>\n",
       "    <tr>\n",
       "      <th>6</th>\n",
       "      <td>boyz-in-the-hood-remix</td>\n",
       "      <td>2007</td>\n",
       "      <td>eazy-e</td>\n",
       "      <td>Hip-Hop</td>\n",
       "      <td>Hey yo man, remember that shit Eazy did a whil...</td>\n",
       "      <td>97</td>\n",
       "      <td>54</td>\n",
       "    </tr>\n",
       "    <tr>\n",
       "      <th>7</th>\n",
       "      <td>fuck-dre</td>\n",
       "      <td>2007</td>\n",
       "      <td>eazy-e</td>\n",
       "      <td>Hip-Hop</td>\n",
       "      <td>This is a ghetto public announcement (weed smo...</td>\n",
       "      <td>48</td>\n",
       "      <td>69</td>\n",
       "    </tr>\n",
       "  </tbody>\n",
       "</table>\n",
       "</div>"
      ],
      "text/plain": [
       "                     song  year  artist    genre  \\\n",
       "1            8-ball-remix  2007  eazy-e  Hip-Hop   \n",
       "3         boyz-in-da-hood  2007  eazy-e  Hip-Hop   \n",
       "5     i-d-rather-fuck-you  2007  eazy-e  Hip-Hop   \n",
       "6  boyz-in-the-hood-remix  2007  eazy-e  Hip-Hop   \n",
       "7                fuck-dre  2007  eazy-e  Hip-Hop   \n",
       "\n",
       "                                              lyrics  num_of_line_change  \\\n",
       "1  I don't drink brass monkey, like to be funky\\n...                  70   \n",
       "3  Hey yo man, remember that shit Eazy did a whil...                  97   \n",
       "5  Aah, this is one of them songs\\nYou can kick b...                  44   \n",
       "6  Hey yo man, remember that shit Eazy did a whil...                  97   \n",
       "7  This is a ghetto public announcement (weed smo...                  48   \n",
       "\n",
       "   max_line_length  \n",
       "1               80  \n",
       "3               54  \n",
       "5               51  \n",
       "6               54  \n",
       "7               69  "
      ]
     },
     "execution_count": 280,
     "metadata": {},
     "output_type": "execute_result"
    }
   ],
   "source": [
    "hip_hop_df_filtered.head(5)"
   ]
  },
  {
   "cell_type": "code",
   "execution_count": 285,
   "metadata": {
    "ExecuteTime": {
     "end_time": "2019-06-25T07:35:28.330238Z",
     "start_time": "2019-06-25T07:35:28.326344Z"
    }
   },
   "outputs": [
    {
     "name": "stdout",
     "output_type": "stream",
     "text": [
      "I don't drink brass monkey, like to be funky\n",
      "Nickname Eazy-E your 8 ball junkie\n",
      "Bass drum kickin', to show my shit\n",
      "Rap a hole in my dick, boy I don't quit\n",
      "Crowd rocking motherfucker from around the way\n",
      "I got a six shooter yo mean hombre\n",
      "Rolling through the hood to find the boys kick dust and cuss crank up some noise\n",
      "Police on my drawers, I have to pause\n",
      "40 ounce in my lap and it's freezing my balls\n",
      "Hook a right turn and let the boys go past\n",
      "Then I say to myself, They can kiss my ass\n",
      "Hip to get drunk got the 8 in my lips\n",
      "Put in the old tape Marvin Gaye's greatest hits\n",
      "Turn the shit up had the bass cold whomping\n",
      "Cruising through the east side south of Compton\n",
      "See a big ass and I say word\n",
      "I took a look at the face, and the bitch was to the curb\n",
      "Hoes on my tip for the title I'm holding\n",
      "Eazy-E's fucked up and got the 8 ball rolling\n",
      "Riding on Slauson down towards Crenshaw\n",
      "Turned down south, to dish the law\n",
      "Stopped at a light and had a fit,\n",
      "Cos a mexican almost wrecked my shit.\n",
      "Flipped his ass off, put it to the floor,\n",
      "Bottle was empty so I went to the store.\n",
      "Nigga on till cos I was drunk,\n",
      "See ya sissy as punk had to go in my trunk.\n",
      "Reached inside cos it's like that,\n",
      "Came back out with a silver Gat.\n",
      "Fired at the punk and it was all because\n",
      "I had to show the nigga what time it was.\n",
      "Put up the jam and, like a mirage,\n",
      "A sissy like that got out of Dodge.\n",
      "Sucker on me, cos the title I'm holdin'\n",
      "Eazy-E's fucked up and got the 8 ball rollin'\n",
      "Old E's 800 cos that's my plan.\n",
      "Take it in a bottle, 40, quart, or can.\n",
      "Drink it like a madman, yes I do,\n",
      "Fuck the police, and a 5-0 too.\n",
      "Stepped at a party I was drunk as hell,\n",
      "Three bitches already said \"Eric yo breath smells\"\n",
      "40-ounce in hand, that's what I got,\n",
      "\"Yo man, you see Eazy hurlin' in the parkin' lot?\"\n",
      "Stepped on yo foot, cold dissed yo ho,\n",
      "Asked her to dance and she said \"Hell, no\"\n",
      "Called her a bitch, cos that's the rule,\n",
      "Boys in the hood tryin to keep me cool.\n",
      "Tell me, homeboy, you wanna kick my butt?\n",
      "I walked in your face and we get em up.\n",
      "I start drivin the dog, and watch you fold,\n",
      "Just dumb, full of cum, got num dot co.\n",
      "\"Make you look sick, ya snotty-nose prick,\n",
      "Now your fly bitch is all over his dick.\"\n",
      "Punk got dropped, cos the title I'm holdin'\n",
      "Eazy-E's fucked up and got the 8-ball rollin'.\n",
      "Pass the broom, motherfucker, while I tear shit up,\n",
      "And y'all listen up close to roll-call.\n",
      "Eazy-E's in the place, I got money and juice,\n",
      "Rendezvous with me and we make the deuce.\n",
      "Dre makes the beat so god-damn funky,\n",
      "Do the 0-8, fuck the brass monkey.\n",
      "Ice Cube writes the rhymes that I say,\n",
      "Hail to the niggas from CIA.\n",
      "Crazy D is down and in effect,\n",
      "We make hardcore jams, so fuck respect.\n",
      "Make a toast, pumpy pump to the title I'm holdin'\n",
      "Eazy-E's fucked up and got the 8-ball rollin.\n"
     ]
    }
   ],
   "source": [
    "print(hip_hop_df_filtered.lyrics.values[0])"
   ]
  },
  {
   "cell_type": "code",
   "execution_count": 286,
   "metadata": {
    "ExecuteTime": {
     "end_time": "2019-06-25T07:35:44.844499Z",
     "start_time": "2019-06-25T07:35:43.595961Z"
    }
   },
   "outputs": [],
   "source": [
    "hip_hop_df_filtered.to_csv(\"hip_hop_filtered.csv\", index=False)"
   ]
  },
  {
   "cell_type": "code",
   "execution_count": null,
   "metadata": {},
   "outputs": [],
   "source": []
  }
 ],
 "metadata": {
  "kernelspec": {
   "display_name": "Python 3",
   "language": "python",
   "name": "python3"
  },
  "language_info": {
   "codemirror_mode": {
    "name": "ipython",
    "version": 3
   },
   "file_extension": ".py",
   "mimetype": "text/x-python",
   "name": "python",
   "nbconvert_exporter": "python",
   "pygments_lexer": "ipython3",
   "version": "3.6.8"
  }
 },
 "nbformat": 4,
 "nbformat_minor": 2
}
