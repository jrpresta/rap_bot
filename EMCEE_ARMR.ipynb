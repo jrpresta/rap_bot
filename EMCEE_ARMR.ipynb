{
 "cells": [
  {
   "cell_type": "markdown",
   "metadata": {},
   "source": [
    "# Read in Data"
   ]
  },
  {
   "cell_type": "code",
   "execution_count": 49,
   "metadata": {
    "ExecuteTime": {
     "end_time": "2019-06-25T04:58:51.044769Z",
     "start_time": "2019-06-25T04:58:51.031629Z"
    }
   },
   "outputs": [],
   "source": [
    "import pandas as pd\n",
    "import numpy as np\n",
    "\n",
    "import re\n",
    "import string\n",
    "import random\n",
    "import operator\n",
    "\n",
    "import matplotlib.pyplot as plt\n",
    "import seaborn as sns\n",
    "%matplotlib inline\n",
    "\n",
    "import torch\n",
    "from torch.utils.data import Dataset, DataLoader"
   ]
  },
  {
   "cell_type": "code",
   "execution_count": 50,
   "metadata": {
    "ExecuteTime": {
     "end_time": "2019-06-25T04:58:55.269177Z",
     "start_time": "2019-06-25T04:58:52.125739Z"
    }
   },
   "outputs": [],
   "source": [
    "music = pd.read_csv('lyrics.csv')"
   ]
  },
  {
   "cell_type": "code",
   "execution_count": 51,
   "metadata": {
    "ExecuteTime": {
     "end_time": "2019-06-25T04:58:58.236497Z",
     "start_time": "2019-06-25T04:58:58.230334Z"
    }
   },
   "outputs": [
    {
     "data": {
      "text/plain": [
       "362237"
      ]
     },
     "execution_count": 51,
     "metadata": {},
     "output_type": "execute_result"
    }
   ],
   "source": [
    "len(music)"
   ]
  },
  {
   "cell_type": "code",
   "execution_count": 3,
   "metadata": {
    "ExecuteTime": {
     "end_time": "2019-06-25T02:46:54.455306Z",
     "start_time": "2019-06-25T02:46:54.435006Z"
    }
   },
   "outputs": [
    {
     "data": {
      "text/html": [
       "<div>\n",
       "<style scoped>\n",
       "    .dataframe tbody tr th:only-of-type {\n",
       "        vertical-align: middle;\n",
       "    }\n",
       "\n",
       "    .dataframe tbody tr th {\n",
       "        vertical-align: top;\n",
       "    }\n",
       "\n",
       "    .dataframe thead th {\n",
       "        text-align: right;\n",
       "    }\n",
       "</style>\n",
       "<table border=\"1\" class=\"dataframe\">\n",
       "  <thead>\n",
       "    <tr style=\"text-align: right;\">\n",
       "      <th></th>\n",
       "      <th>index</th>\n",
       "      <th>song</th>\n",
       "      <th>year</th>\n",
       "      <th>artist</th>\n",
       "      <th>genre</th>\n",
       "      <th>lyrics</th>\n",
       "    </tr>\n",
       "  </thead>\n",
       "  <tbody>\n",
       "    <tr>\n",
       "      <th>0</th>\n",
       "      <td>0</td>\n",
       "      <td>ego-remix</td>\n",
       "      <td>2009</td>\n",
       "      <td>beyonce-knowles</td>\n",
       "      <td>Pop</td>\n",
       "      <td>Oh baby, how you doing?\\nYou know I'm gonna cu...</td>\n",
       "    </tr>\n",
       "    <tr>\n",
       "      <th>1</th>\n",
       "      <td>1</td>\n",
       "      <td>then-tell-me</td>\n",
       "      <td>2009</td>\n",
       "      <td>beyonce-knowles</td>\n",
       "      <td>Pop</td>\n",
       "      <td>playin' everything so easy,\\nit's like you see...</td>\n",
       "    </tr>\n",
       "    <tr>\n",
       "      <th>2</th>\n",
       "      <td>2</td>\n",
       "      <td>honesty</td>\n",
       "      <td>2009</td>\n",
       "      <td>beyonce-knowles</td>\n",
       "      <td>Pop</td>\n",
       "      <td>If you search\\nFor tenderness\\nIt isn't hard t...</td>\n",
       "    </tr>\n",
       "    <tr>\n",
       "      <th>3</th>\n",
       "      <td>3</td>\n",
       "      <td>you-are-my-rock</td>\n",
       "      <td>2009</td>\n",
       "      <td>beyonce-knowles</td>\n",
       "      <td>Pop</td>\n",
       "      <td>Oh oh oh I, oh oh oh I\\n[Verse 1:]\\nIf I wrote...</td>\n",
       "    </tr>\n",
       "    <tr>\n",
       "      <th>4</th>\n",
       "      <td>4</td>\n",
       "      <td>black-culture</td>\n",
       "      <td>2009</td>\n",
       "      <td>beyonce-knowles</td>\n",
       "      <td>Pop</td>\n",
       "      <td>Party the people, the people the party it's po...</td>\n",
       "    </tr>\n",
       "  </tbody>\n",
       "</table>\n",
       "</div>"
      ],
      "text/plain": [
       "   index             song  year           artist genre  \\\n",
       "0      0        ego-remix  2009  beyonce-knowles   Pop   \n",
       "1      1     then-tell-me  2009  beyonce-knowles   Pop   \n",
       "2      2          honesty  2009  beyonce-knowles   Pop   \n",
       "3      3  you-are-my-rock  2009  beyonce-knowles   Pop   \n",
       "4      4    black-culture  2009  beyonce-knowles   Pop   \n",
       "\n",
       "                                              lyrics  \n",
       "0  Oh baby, how you doing?\\nYou know I'm gonna cu...  \n",
       "1  playin' everything so easy,\\nit's like you see...  \n",
       "2  If you search\\nFor tenderness\\nIt isn't hard t...  \n",
       "3  Oh oh oh I, oh oh oh I\\n[Verse 1:]\\nIf I wrote...  \n",
       "4  Party the people, the people the party it's po...  "
      ]
     },
     "execution_count": 3,
     "metadata": {},
     "output_type": "execute_result"
    }
   ],
   "source": [
    "music.head()"
   ]
  },
  {
   "cell_type": "code",
   "execution_count": 4,
   "metadata": {
    "ExecuteTime": {
     "end_time": "2019-06-25T02:46:55.033100Z",
     "start_time": "2019-06-25T02:46:55.007473Z"
    }
   },
   "outputs": [
    {
     "data": {
      "text/plain": [
       "array(['Pop', 'Hip-Hop', 'Not Available', 'Other', 'Rock', 'Metal',\n",
       "       'Country', 'Jazz', 'Electronic', 'Folk', 'R&B', 'Indie'],\n",
       "      dtype=object)"
      ]
     },
     "execution_count": 4,
     "metadata": {},
     "output_type": "execute_result"
    }
   ],
   "source": [
    "music['genre'].unique()"
   ]
  },
  {
   "cell_type": "code",
   "execution_count": 5,
   "metadata": {
    "ExecuteTime": {
     "end_time": "2019-06-25T02:46:56.300921Z",
     "start_time": "2019-06-25T02:46:56.236889Z"
    }
   },
   "outputs": [
    {
     "data": {
      "text/plain": [
       "33965"
      ]
     },
     "execution_count": 5,
     "metadata": {},
     "output_type": "execute_result"
    }
   ],
   "source": [
    "sum(music['genre'] == 'Hip-Hop')"
   ]
  },
  {
   "cell_type": "code",
   "execution_count": 6,
   "metadata": {
    "ExecuteTime": {
     "end_time": "2019-06-25T02:46:56.791215Z",
     "start_time": "2019-06-25T02:46:56.758848Z"
    }
   },
   "outputs": [],
   "source": [
    "hh_lyrics = music[music['genre'] == 'Hip-Hop']['lyrics']"
   ]
  },
  {
   "cell_type": "code",
   "execution_count": 7,
   "metadata": {
    "ExecuteTime": {
     "end_time": "2019-06-25T02:46:57.121090Z",
     "start_time": "2019-06-25T02:46:57.115373Z"
    }
   },
   "outputs": [
    {
     "data": {
      "text/plain": [
       "249    (horns)...\\n(chorus)\\nTimbo- When you hit me o...\n",
       "250    Verse 1:\\nI don't drink brass monkey, like to ...\n",
       "251    19 muthaphukkin 93,\\nand I'm back in this bitc...\n",
       "252    Hey yo man, remember that shit Eazy did a whil...\n",
       "253    Yo, Dre, man, I take this bitch out to the mov...\n",
       "Name: lyrics, dtype: object"
      ]
     },
     "execution_count": 7,
     "metadata": {},
     "output_type": "execute_result"
    }
   ],
   "source": [
    "hh_lyrics.head()"
   ]
  },
  {
   "cell_type": "markdown",
   "metadata": {},
   "source": [
    "# Data Cleaning"
   ]
  },
  {
   "cell_type": "markdown",
   "metadata": {},
   "source": [
    "There are newlines all over the place, it's important to recognize where a line ends, but we want the new line to be its own character."
   ]
  },
  {
   "cell_type": "code",
   "execution_count": 8,
   "metadata": {
    "ExecuteTime": {
     "end_time": "2019-06-25T02:46:58.415197Z",
     "start_time": "2019-06-25T02:46:58.404779Z"
    }
   },
   "outputs": [],
   "source": [
    "test_lyric = hh_lyrics[250]\n",
    "test_lyric_ = test_lyric.lower()\n",
    "\n",
    "# test_lyric_.replace('\\n', ' \\n ').split(' ')"
   ]
  },
  {
   "cell_type": "code",
   "execution_count": 9,
   "metadata": {
    "ExecuteTime": {
     "end_time": "2019-06-25T02:46:59.689725Z",
     "start_time": "2019-06-25T02:46:59.108470Z"
    }
   },
   "outputs": [],
   "source": [
    "hh_lyrics_ = [h for h in hh_lyrics if type(h) == str]\n",
    "hh_lyrics_ = [h.lower() for h in hh_lyrics_]\n",
    "hh_lyrics_ = [h.translate(str.maketrans('', '', string.punctuation)) for h in hh_lyrics_]"
   ]
  },
  {
   "cell_type": "markdown",
   "metadata": {},
   "source": [
    "Note that originally I kept newlines in as a character, but the model only predicted newlines so I am now removing it."
   ]
  },
  {
   "cell_type": "code",
   "execution_count": 10,
   "metadata": {
    "ExecuteTime": {
     "end_time": "2019-06-25T02:47:03.088503Z",
     "start_time": "2019-06-25T02:47:01.779285Z"
    }
   },
   "outputs": [],
   "source": [
    "hh_lyrics_ = [h.split() for h in hh_lyrics_]"
   ]
  },
  {
   "cell_type": "code",
   "execution_count": 11,
   "metadata": {
    "ExecuteTime": {
     "end_time": "2019-06-25T02:47:10.428471Z",
     "start_time": "2019-06-25T02:47:06.734111Z"
    },
    "code_folding": []
   },
   "outputs": [],
   "source": [
    "counter = {}\n",
    "\n",
    "for song in hh_lyrics_:\n",
    "    for word in song:\n",
    "        if word in counter.keys():\n",
    "            counter[word] += 1\n",
    "        else:\n",
    "            counter[word] = 1"
   ]
  },
  {
   "cell_type": "code",
   "execution_count": 12,
   "metadata": {
    "ExecuteTime": {
     "end_time": "2019-06-25T02:47:11.341328Z",
     "start_time": "2019-06-25T02:47:11.300654Z"
    }
   },
   "outputs": [],
   "source": [
    "word2idx = {}\n",
    "word2idx['<UNK>'] = 0\n",
    "word2idx['<EOS>'] = 1\n",
    "\n",
    "for k,v in counter.items():\n",
    "    if v >= 10:\n",
    "        word2idx[k] = len(word2idx)\n",
    "        \n",
    "V = len(word2idx)"
   ]
  },
  {
   "cell_type": "code",
   "execution_count": 13,
   "metadata": {
    "ExecuteTime": {
     "end_time": "2019-06-25T02:47:15.695507Z",
     "start_time": "2019-06-25T02:47:13.265387Z"
    }
   },
   "outputs": [],
   "source": [
    "songs = [[word2idx.get(w, 0) for w in song] + [1] for song in hh_lyrics_]"
   ]
  },
  {
   "cell_type": "markdown",
   "metadata": {},
   "source": [
    "The songs have been broken down into integers which will be mapped to word embeddings. Because we're building a language model, we now need to create a dataset consisting of some leading words followed by the label, the next word up. Let's start with using 10 leading words and then predicting the eleventh word."
   ]
  },
  {
   "cell_type": "code",
   "execution_count": 14,
   "metadata": {
    "ExecuteTime": {
     "end_time": "2019-06-20T17:37:43.497305Z",
     "start_time": "2019-06-20T17:37:43.394406Z"
    }
   },
   "outputs": [],
   "source": [
    "num_samples_per_song = 50\n",
    "sample_size = 5\n",
    "song_set = []\n",
    "\n",
    "for song in songs:\n",
    "    num_words = len(song)\n",
    "    if num_words <= sample_size+1:\n",
    "        break\n",
    "    for _ in range(num_samples_per_song):\n",
    "        start = np.random.randint(0, num_words-sample_size-1)\n",
    "        song_set.append(song[start:start+sample_size+1])"
   ]
  },
  {
   "cell_type": "code",
   "execution_count": 15,
   "metadata": {
    "ExecuteTime": {
     "end_time": "2019-06-20T17:37:46.867240Z",
     "start_time": "2019-06-20T17:37:46.864187Z"
    }
   },
   "outputs": [],
   "source": [
    "# sum([s[-1] == 19 for s in song_set]) / len(song_set)"
   ]
  },
  {
   "cell_type": "markdown",
   "metadata": {},
   "source": [
    "3% of the observations have the word 'the' as the target. The model tends to only predict the word 'the', so we're going to try removing it from the dataset and see how that affects predictions."
   ]
  },
  {
   "cell_type": "code",
   "execution_count": 16,
   "metadata": {
    "ExecuteTime": {
     "end_time": "2019-06-20T17:37:47.826689Z",
     "start_time": "2019-06-20T17:37:47.824381Z"
    }
   },
   "outputs": [],
   "source": [
    "# song_set = [s for s in song_set if s[-1] != 19]"
   ]
  },
  {
   "cell_type": "markdown",
   "metadata": {},
   "source": [
    "Create the dataloader"
   ]
  },
  {
   "cell_type": "code",
   "execution_count": 17,
   "metadata": {
    "ExecuteTime": {
     "end_time": "2019-06-20T17:37:48.394325Z",
     "start_time": "2019-06-20T17:37:48.390417Z"
    }
   },
   "outputs": [
    {
     "data": {
      "text/plain": [
       "29440"
      ]
     },
     "execution_count": 17,
     "metadata": {},
     "output_type": "execute_result"
    }
   ],
   "source": [
    "V"
   ]
  },
  {
   "cell_type": "code",
   "execution_count": 18,
   "metadata": {
    "ExecuteTime": {
     "end_time": "2019-06-20T17:37:49.011498Z",
     "start_time": "2019-06-20T17:37:48.999020Z"
    },
    "code_folding": []
   },
   "outputs": [],
   "source": [
    "blah = []\n",
    "\n",
    "for song in song_set:\n",
    "    try:\n",
    "        blah.append(song[sample_size])\n",
    "    except:\n",
    "        print(song)"
   ]
  },
  {
   "cell_type": "code",
   "execution_count": 19,
   "metadata": {
    "ExecuteTime": {
     "end_time": "2019-06-20T17:37:49.592714Z",
     "start_time": "2019-06-20T17:37:49.588256Z"
    }
   },
   "outputs": [
    {
     "data": {
      "text/plain": [
       "42600"
      ]
     },
     "execution_count": 19,
     "metadata": {},
     "output_type": "execute_result"
    }
   ],
   "source": [
    "len(song_set)"
   ]
  },
  {
   "cell_type": "code",
   "execution_count": 20,
   "metadata": {
    "ExecuteTime": {
     "end_time": "2019-06-20T17:37:50.373929Z",
     "start_time": "2019-06-20T17:37:50.231355Z"
    }
   },
   "outputs": [],
   "source": [
    "blah = np.zeros((len(song_set), V))\n",
    "for i, song in enumerate(song_set):\n",
    "    blah[i, song[sample_size]] = 1"
   ]
  },
  {
   "cell_type": "code",
   "execution_count": 21,
   "metadata": {
    "ExecuteTime": {
     "end_time": "2019-06-20T17:37:50.664207Z",
     "start_time": "2019-06-20T17:37:50.659753Z"
    }
   },
   "outputs": [
    {
     "data": {
      "text/plain": [
       "[10251, 512, 10392, 10817, 131, 19]"
      ]
     },
     "execution_count": 21,
     "metadata": {},
     "output_type": "execute_result"
    }
   ],
   "source": [
    "song_set[24850]"
   ]
  },
  {
   "cell_type": "markdown",
   "metadata": {},
   "source": [
    "Train-Test Split"
   ]
  },
  {
   "cell_type": "code",
   "execution_count": 22,
   "metadata": {
    "ExecuteTime": {
     "end_time": "2019-06-11T22:25:20.214219Z",
     "start_time": "2019-06-11T22:25:20.179523Z"
    }
   },
   "outputs": [],
   "source": [
    "num_obs = len(song_set)\n",
    "train, test = [], []\n",
    "\n",
    "test_ids  = random.sample(range(num_obs), num_obs // 3)\n",
    "train_ids = list( set(range(num_obs)) - set(test_ids) )\n",
    "\n",
    "for idx in train_ids:\n",
    "    train.append(song_set[idx])\n",
    "    \n",
    "for idx in test_ids:\n",
    "    test.append(song_set[idx])"
   ]
  },
  {
   "cell_type": "code",
   "execution_count": 23,
   "metadata": {
    "ExecuteTime": {
     "end_time": "2019-06-11T22:25:20.733231Z",
     "start_time": "2019-06-11T22:25:20.727937Z"
    }
   },
   "outputs": [],
   "source": [
    "class Songs(Dataset):\n",
    "    def __init__(self, songs):\n",
    "        self.x = torch.tensor( [s[:sample_size] for s in songs] )        \n",
    "        self.y = torch.tensor( [s[-1] for s in songs] ).long()\n",
    "        # initialize an empty array and then one-hot code the targets\n",
    "\n",
    "#         self.y = np.zeros((len(songs), V))\n",
    "\n",
    "#         for i, song in enumerate(songs):\n",
    "#             self.y[i, song[sample_size]] = 1\n",
    "#         self.y = torch.tensor(self.y)\n",
    "        \n",
    "    def __len__(self):\n",
    "        return len(self.x)\n",
    "\n",
    "    def __getitem__(self, idx):\n",
    "        return (self.x[idx], self.y[idx])"
   ]
  },
  {
   "cell_type": "code",
   "execution_count": 24,
   "metadata": {
    "ExecuteTime": {
     "end_time": "2019-06-11T22:25:21.816015Z",
     "start_time": "2019-06-11T22:25:21.479702Z"
    }
   },
   "outputs": [],
   "source": [
    "train_ds = Songs(train)\n",
    "test_ds  = Songs(test)\n",
    "\n",
    "train_dl = DataLoader(train_ds, 50)\n",
    "test_dl  = DataLoader(test_ds, 50)"
   ]
  },
  {
   "cell_type": "code",
   "execution_count": 25,
   "metadata": {
    "ExecuteTime": {
     "end_time": "2019-06-11T22:25:22.619618Z",
     "start_time": "2019-06-11T22:25:22.615299Z"
    }
   },
   "outputs": [
    {
     "data": {
      "text/plain": [
       "42600"
      ]
     },
     "execution_count": 25,
     "metadata": {},
     "output_type": "execute_result"
    }
   ],
   "source": [
    "len( song_set )"
   ]
  },
  {
   "cell_type": "code",
   "execution_count": 26,
   "metadata": {
    "ExecuteTime": {
     "end_time": "2019-06-11T22:25:23.284012Z",
     "start_time": "2019-06-11T22:25:23.274417Z"
    },
    "scrolled": true
   },
   "outputs": [
    {
     "name": "stdout",
     "output_type": "stream",
     "text": [
      "tensor([[ 11,  12,  13,  14,  15],\n",
      "        [  6,  16,  34,   6,  18],\n",
      "        [  0, 125, 127,  88, 128],\n",
      "        [ 47,  48,   0, 134,  21],\n",
      "        [ 90, 205, 102, 206, 127],\n",
      "        [ 13,   9,  19,  20,  21],\n",
      "        [ 57,  63,  64,  65,  66],\n",
      "        [ 24,  25,  26,  24,  25],\n",
      "        [117, 118, 119, 120,  31],\n",
      "        [ 68,  69,  70,  19,  71],\n",
      "        [ 70,  75, 185, 146, 186],\n",
      "        [127,  88, 128, 129,  34],\n",
      "        [146,  50, 147, 110, 148],\n",
      "        [ 18,  13,   6,  35,  21],\n",
      "        [  6, 152, 153,   0, 154],\n",
      "        [ 48,   0, 134,  21, 144],\n",
      "        [ 83,  19, 109, 110,  46],\n",
      "        [ 64,  65,  66,  67,  21],\n",
      "        [  0,  26,   0,  26,  23],\n",
      "        [ 25,   0,  24,  25,   0],\n",
      "        [  6,  16,  34,   6,  18],\n",
      "        [ 57,  94,  92,  95,  90],\n",
      "        [175, 176, 177, 178,  31],\n",
      "        [ 41,  42,  31,  24,  90],\n",
      "        [ 24,  25,  24,  27,  28],\n",
      "        [ 35,  21,  22,   0,  26],\n",
      "        [ 14,  15,  16,   5,   6],\n",
      "        [128, 129,  34, 102,   8],\n",
      "        [ 77,  19,   0,  78,  25],\n",
      "        [  7,   8,   9,  10,  11],\n",
      "        [  7,   8,   9,  10,  11],\n",
      "        [204,  40,  41,  42,  31],\n",
      "        [  0,  24,  25,  26,  24],\n",
      "        [ 38, 399, 400,  19, 401],\n",
      "        [ 76, 125, 151,  24, 382],\n",
      "        [351,  24, 100,  73,  19],\n",
      "        [354,   9, 156, 366, 283],\n",
      "        [320, 258, 348, 349, 270],\n",
      "        [ 81, 376, 110, 377,   8],\n",
      "        [ 46, 313, 314, 315,  10],\n",
      "        [ 46, 338,  46, 324, 131],\n",
      "        [270, 215,  34, 131,  46],\n",
      "        [110,  19, 295, 296,   9],\n",
      "        [254,   9,  10, 255,  24],\n",
      "        [110, 371,  31, 372, 359],\n",
      "        [ 19, 223, 224, 245,  38],\n",
      "        [279,   0, 280, 281, 266],\n",
      "        [ 46, 311, 312,  46, 313],\n",
      "        [  6, 290, 394, 128,   0],\n",
      "        [ 98, 387, 388,  83, 389]])\n",
      "tensor([ 16,  13, 129, 144,  76,  22,  67,  24, 121,  72, 187, 102,  19,  22,\n",
      "         31, 145, 111,  68,  36,  24,  13,  58, 179, 205,  29,   0,  17,  61,\n",
      "         79,  12,  12,  24,  25, 238, 383, 254, 367, 215, 378, 230,  26, 350,\n",
      "         10, 256, 356, 142,  19, 314, 395,  25])\n"
     ]
    }
   ],
   "source": [
    "for x, y in train_dl:\n",
    "    print(x) \n",
    "    print(y)\n",
    "    break"
   ]
  },
  {
   "cell_type": "markdown",
   "metadata": {},
   "source": [
    "# Model"
   ]
  },
  {
   "cell_type": "code",
   "execution_count": 74,
   "metadata": {
    "ExecuteTime": {
     "end_time": "2019-06-27T03:40:17.419981Z",
     "start_time": "2019-06-27T03:40:17.390972Z"
    }
   },
   "outputs": [],
   "source": [
    "class LangModel(torch.nn.Module):\n",
    "    def __init__(self, vocab_size=V, emb_size=30, dropout=0.9, hidden_size=10):\n",
    "        super(LangModel, self).__init__()\n",
    "        self.hidden_size = hidden_size\n",
    "        self.embedding   = torch.nn.Embedding(vocab_size, embedding_dim=emb_size)\n",
    "        self.LSTM = torch.nn.LSTM(input_size=emb_size, hidden_size=hidden_size,\n",
    "                                  batch_first=True)\n",
    "        self.fc1 = torch.nn.Linear(hidden_size, 2*hidden_size)\n",
    "        self.fc2 = torch.nn.Linear(2*hidden_size, vocab_size)\n",
    "        self.fc3 = torch.nn.Linear(hidden_size, vocab_size)\n",
    "        self.dropout = torch.nn.Dropout(dropout)\n",
    "\n",
    "    def forward(self, x):\n",
    "        # we want the final hidden layer, so we will take the\n",
    "        # hidden part of the h_c output of the LSTM\n",
    "        batch_size = x.shape[0]\n",
    "        x = self.embedding(x)\n",
    "        x, h_c = self.LSTM(x)\n",
    "        x = self.dropout(h_c[0])\n",
    "        x = x.squeeze()\n",
    "        x = self.fc3(x)\n",
    "        return x.squeeze().double()"
   ]
  },
  {
   "cell_type": "code",
   "execution_count": 15,
   "metadata": {
    "ExecuteTime": {
     "end_time": "2019-06-25T02:47:31.520399Z",
     "start_time": "2019-06-25T02:47:31.505061Z"
    },
    "code_folding": []
   },
   "outputs": [],
   "source": [
    "def train_model(mod, n_epochs, train_loss=[], test_loss=[]):\n",
    "    for i in range(n_epochs):\n",
    "        # train\n",
    "        total_loss, trials = 0, 0\n",
    "        mod.train()\n",
    "        for x, y in train_dl:\n",
    "            y_hat = mod(x)\n",
    "            optimizer.zero_grad()\n",
    "            \n",
    "            loss = criterion(y_hat, y)\n",
    "            loss.backward()\n",
    "            optimizer.step()\n",
    "            \n",
    "            trials += y.shape[0]\n",
    "            total_loss += loss.item()\n",
    "        train_loss.append(total_loss / trials)\n",
    "        \n",
    "        # test\n",
    "        if i % 5 == 4:\n",
    "            total_test_loss, test_trials = 0, 0\n",
    "            mod.eval()\n",
    "            for x, y in test_dl:\n",
    "                test_trials += y.shape[0]\n",
    "                y_hat = model(x)\n",
    "                loss = criterion(y_hat, y)\n",
    "                total_test_loss += loss.item()    \n",
    "            test_loss.append(total_test_loss / test_trials)\n",
    "\n",
    " \n",
    "    sns.lineplot(x=1+np.arange(len(train_loss)),\n",
    "                 y=train_loss)\n",
    "    sns.lineplot(x=5*(np.arange(len(test_loss))+1),\n",
    "                 y=test_loss)\n",
    "    plt.show()\n",
    "    \n",
    "    return train_loss, test_loss"
   ]
  },
  {
   "cell_type": "code",
   "execution_count": 16,
   "metadata": {
    "ExecuteTime": {
     "end_time": "2019-06-25T02:47:33.603422Z",
     "start_time": "2019-06-25T02:47:33.569702Z"
    }
   },
   "outputs": [],
   "source": [
    "model = LangModel()\n",
    "# criterion = torch.nn.BCEWithLogitsLoss()\n",
    "criterion = torch.nn.CrossEntropyLoss()\n",
    "optimizer = torch.optim.Adam(model.parameters(), lr=0.001)"
   ]
  },
  {
   "cell_type": "code",
   "execution_count": 35,
   "metadata": {
    "ExecuteTime": {
     "end_time": "2019-06-11T22:37:42.408055Z",
     "start_time": "2019-06-11T22:32:44.170700Z"
    }
   },
   "outputs": [
    {
     "data": {
      "image/png": "[encoded data removed]",
      "text/plain": [
       "<Figure size 432x288 with 1 Axes>"
      ]
     },
     "metadata": {
      "needs_background": "light"
     },
     "output_type": "display_data"
    }
   ],
   "source": [
    "train_loss_, test_loss_ = train_model(model, 11)"
   ]
  },
  {
   "cell_type": "code",
   "execution_count": 36,
   "metadata": {
    "ExecuteTime": {
     "end_time": "2019-06-11T22:42:16.296679Z",
     "start_time": "2019-06-11T22:37:42.410400Z"
    }
   },
   "outputs": [
    {
     "data": {
      "image/png": "[encoded data removed]",
      "text/plain": [
       "<Figure size 432x288 with 1 Axes>"
      ]
     },
     "metadata": {
      "needs_background": "light"
     },
     "output_type": "display_data"
    }
   ],
   "source": [
    "train_loss_, test_loss_ = train_model(model, 10, train_loss=train_loss_, test_loss=test_loss_)"
   ]
  },
  {
   "cell_type": "code",
   "execution_count": null,
   "metadata": {},
   "outputs": [],
   "source": []
  },
  {
   "cell_type": "code",
   "execution_count": 65,
   "metadata": {
    "ExecuteTime": {
     "end_time": "2019-06-11T19:57:45.268993Z",
     "start_time": "2019-06-11T19:55:56.584143Z"
    }
   },
   "outputs": [
    {
     "data": {
      "image/png": "[encoded data removed]",
      "text/plain": [
       "<Figure size 432x288 with 1 Axes>"
      ]
     },
     "metadata": {
      "needs_background": "light"
     },
     "output_type": "display_data"
    }
   ],
   "source": [
    "train_loss_, test_loss_ = train_model(model, 10, train_loss=train_loss_, test_loss=test_loss_)"
   ]
  },
  {
   "cell_type": "code",
   "execution_count": 66,
   "metadata": {
    "ExecuteTime": {
     "end_time": "2019-06-11T19:59:33.389965Z",
     "start_time": "2019-06-11T19:57:45.271154Z"
    }
   },
   "outputs": [
    {
     "data": {
      "image/png": "[encoded data removed]",
      "text/plain": [
       "<Figure size 432x288 with 1 Axes>"
      ]
     },
     "metadata": {
      "needs_background": "light"
     },
     "output_type": "display_data"
    }
   ],
   "source": [
    "train_loss_, test_loss_ = train_model(model, 10, train_loss=train_loss_, test_loss=test_loss_)"
   ]
  },
  {
   "cell_type": "markdown",
   "metadata": {},
   "source": [
    "# Load in Model"
   ]
  },
  {
   "cell_type": "code",
   "execution_count": 53,
   "metadata": {
    "ExecuteTime": {
     "end_time": "2019-06-25T16:54:02.140559Z",
     "start_time": "2019-06-25T16:54:01.963667Z"
    }
   },
   "outputs": [
    {
     "name": "stdout",
     "output_type": "stream",
     "text": [
      "DJ_Data_Cleaner.ipynb continue_train.py     results2.txt\r\n",
      "EMCEE_ARMR.ipynb      \u001b[31mlyrics.csv\u001b[m\u001b[m            train.py\r\n",
      "MODEL.pth             nohup.out\r\n",
      "MODEL2.pth            results.txt\r\n"
     ]
    }
   ],
   "source": [
    "! ls"
   ]
  },
  {
   "cell_type": "code",
   "execution_count": 75,
   "metadata": {
    "ExecuteTime": {
     "end_time": "2019-06-27T03:40:52.373389Z",
     "start_time": "2019-06-27T03:40:52.280502Z"
    }
   },
   "outputs": [
    {
     "data": {
      "text/plain": [
       "LangModel(\n",
       "  (embedding): Embedding(29440, 30)\n",
       "  (LSTM): LSTM(30, 10, batch_first=True)\n",
       "  (fc1): Linear(in_features=10, out_features=20, bias=True)\n",
       "  (fc2): Linear(in_features=20, out_features=29440, bias=True)\n",
       "  (fc3): Linear(in_features=10, out_features=29440, bias=True)\n",
       "  (dropout): Dropout(p=0.9)\n",
       ")"
      ]
     },
     "execution_count": 75,
     "metadata": {},
     "output_type": "execute_result"
    }
   ],
   "source": [
    "model = LangModel()\n",
    "model.load_state_dict(torch.load('./MODEL2.pth'))\n",
    "model.eval()"
   ]
  },
  {
   "cell_type": "code",
   "execution_count": 80,
   "metadata": {
    "ExecuteTime": {
     "end_time": "2019-06-27T03:43:20.930924Z",
     "start_time": "2019-06-27T03:43:20.903385Z"
    }
   },
   "outputs": [],
   "source": [
    "import pickle \n",
    "\n",
    "with open('word2idx.pickle', 'rb') as f:\n",
    "    word2idx = pickle.load(f)"
   ]
  },
  {
   "cell_type": "code",
   "execution_count": 81,
   "metadata": {
    "ExecuteTime": {
     "end_time": "2019-06-27T03:43:21.558757Z",
     "start_time": "2019-06-27T03:43:21.551308Z"
    }
   },
   "outputs": [],
   "source": [
    "idx2word = {v:k for k,v in word2idx.items()}"
   ]
  },
  {
   "cell_type": "code",
   "execution_count": 94,
   "metadata": {
    "ExecuteTime": {
     "end_time": "2019-06-27T03:50:25.939835Z",
     "start_time": "2019-06-27T03:50:25.415898Z"
    },
    "scrolled": true
   },
   "outputs": [],
   "source": [
    "start_words = 'it was all a dream i used to read wordup magazine'.split(' ')\n",
    "start_idx = [word2idx.get(word, word2idx['<UNK>']) for word in start_words]\n",
    "rap = start_idx\n",
    "\n",
    "k = 100\n",
    "\n",
    "for _ in range(25):\n",
    "    pred_ = model( torch.tensor([rap]) ).tolist()\n",
    "    pred_ = [(p, i) for i,p in enumerate(pred_)]\n",
    "    pred_.sort(key=lambda x: x[0], reverse=True)\n",
    "\n",
    "    predict_position = np.random.randint(k)\n",
    "    index = pred_[predict_position][1]\n",
    "\n",
    "    rap.append(index)    "
   ]
  },
  {
   "cell_type": "code",
   "execution_count": 95,
   "metadata": {
    "ExecuteTime": {
     "end_time": "2019-06-27T03:50:26.340558Z",
     "start_time": "2019-06-27T03:50:26.336593Z"
    }
   },
   "outputs": [
    {
     "name": "stdout",
     "output_type": "stream",
     "text": [
      "it was all a dream i used to read <UNK> magazine all 50 make they for shit tell on bitch give kids shit down we niggas is no time shit all them or want if this\n"
     ]
    }
   ],
   "source": [
    "print(' '.join([idx2word[word] for word in rap]))"
   ]
  },
  {
   "cell_type": "code",
   "execution_count": null,
   "metadata": {},
   "outputs": [],
   "source": [
    "last name ever \n",
    "first name greatest \n",
    "throw many after satan \n",
    "bitches believe space guess \n",
    "head could smell smoke den \n",
    "that hold place really without nothin \n",
    "ladies remember brother versus kids best"
   ]
  }
 ],
 "metadata": {
  "kernelspec": {
   "display_name": "Python 3",
   "language": "python",
   "name": "python3"
  },
  "language_info": {
   "codemirror_mode": {
    "name": "ipython",
    "version": 3
   },
   "file_extension": ".py",
   "mimetype": "text/x-python",
   "name": "python",
   "nbconvert_exporter": "python",
   "pygments_lexer": "ipython3",
   "version": "3.7.3"
  },
  "notify_time": "30"
 },
 "nbformat": 4,
 "nbformat_minor": 2
}
